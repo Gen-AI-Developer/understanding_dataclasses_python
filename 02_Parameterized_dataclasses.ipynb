{
 "cells": [
  {
   "cell_type": "markdown",
   "id": "50e0d5fb",
   "metadata": {},
   "source": [
    "# Dataclasses in Python (Part-2) | Parameterized Data Class\n",
    "This module provides a decorator and functions for automatically adding generated special methods such as __init__() and __repr__() to user-defined classes. \n"
   ]
  },
  {
   "cell_type": "markdown",
   "id": "6cc1ac86",
   "metadata": {},
   "source": [
    "@dataclasses.dataclass(cls, init=True, repr=True, eq=True, order=False, unsafe_hash=False, frozen=False, match_args=True, kw_only=False, slots=False, weakref_slot=False)¶\n"
   ]
  },
  {
   "cell_type": "markdown",
   "id": "d619bcc9",
   "metadata": {},
   "source": [
    "The parameters to @dataclass are:\n",
    "\n",
    "- init: If true (the default), a __init__() method will be generated.\n",
    "\n",
    "        If the class already defines __init__(), this parameter is ignored.\n",
    "\n",
    "- repr: If true (the default), a __repr__() method will be generated. The generated repr string will have the class name and the name and repr of each field, in the order they are defined in the class. Fields that are marked as being excluded from the repr are not included. For example: InventoryItem(name='widget', unit_price=3.0, quantity_on_hand=10).\n",
    "\n",
    "        If the class already defines __repr__(), this parameter is ignored.\n",
    "\n",
    "- eq: If true (the default), an __eq__() method will be generated. This method compares the class as if it were a tuple of its fields, in order. Both instances in the comparison must be of the identical type.\n",
    "\n",
    "        If the class already defines __eq__(), this parameter is ignored.\n",
    "\n",
    "- order: If true (the default is False), __lt__(), __le__(), __gt__(), and __ge__() methods will be generated. These compare the class as if it were a tuple of its fields, in order. Both instances in the comparison must be of the identical type. If order is true and eq is false, a ValueError is raised.\n",
    "\n",
    "        If the class already defines any of __lt__(), __le__(), __gt__(), or __ge__(), then TypeError is raised.\n",
    "\n",
    "- unsafe_hash: If False (the default), a __hash__() method is generated according to how eq and frozen are set.\n",
    "\n",
    "        __hash__() is used by built-in hash(), and when objects are added to hashed collections such as dictionaries and sets. Having a __hash__() implies that instances of the class are immutable. Mutability is a complicated property that depends on the programmer’s intent, the existence and behavior of __eq__(), and the values of the eq and frozen flags in the @dataclass decorator.\n",
    "\n",
    "        By default, @dataclass will not implicitly add a __hash__() method unless it is safe to do so. Neither will it add or change an existing explicitly defined __hash__() method. Setting the class attribute __hash__ = None has a specific meaning to Python, as described in the __hash__() documentation.\n",
    "\n",
    "        If __hash__() is not explicitly defined, or if it is set to None, then @dataclass may add an implicit __hash__() method. Although not recommended, you can force @dataclass to create a __hash__() method with unsafe_hash=True. This might be the case if your class is logically immutable but can still be mutated. This is a specialized use case and should be considered carefully.\n",
    "\n",
    "        Here are the rules governing implicit creation of a __hash__() method. Note that you cannot both have an explicit __hash__() method in your dataclass and set unsafe_hash=True; this will result in a TypeError.\n",
    "\n",
    "        If eq and frozen are both true, by default @dataclass will generate a __hash__() method for you. If eq is true and frozen is false, __hash__() will be set to None, marking it unhashable (which it is, since it is mutable). If eq is false, __hash__() will be left untouched meaning the __hash__() method of the superclass will be used (if the superclass is object, this means it will fall back to id-based hashing).\n",
    "\n",
    "- frozen: If true (the default is False), assigning to fields will generate an exception. This emulates read-only frozen instances. If __setattr__() or __delattr__() is defined in the class, then TypeError is raised. See the discussion below.\n",
    "\n",
    "- match_args: If true (the default is True), the __match_args__ tuple will be created from the list of parameters to the generated __init__() method (even if __init__() is not generated, see above). If false, or if __match_args__ is already defined in the class, then __match_args__ will not be generated.\n",
    "\n",
    "        Added in version 3.10.\n",
    "\n",
    "- kw_only: If true (the default value is False), then all fields will be marked as keyword-only. If a field is marked as keyword-only, then the only effect is that the __init__() parameter generated from a keyword-only field must be specified with a keyword when __init__() is called. There is no effect on any other aspect of dataclasses. See the parameter glossary entry for details. Also see the KW_ONLY section.\n",
    "\n",
    "        Added in version 3.10.\n",
    "\n",
    "- slots: If true (the default is False), __slots__ attribute will be generated and new class will be returned instead of the original one. If __slots__ is already defined in the class, then TypeError is raised.\n",
    "\n",
    "        Warning Calling no-arg super() in dataclasses using slots=True will result in the following exception being raised: TypeError: super(type, obj): obj must be an instance or subtype of type. The two-arg super() is a valid workaround. See gh-90562 for full details.\n",
    "        Warning Passing parameters to a base class __init_subclass__() when using slots=True will result in a TypeError. Either use __init_subclass__ with no parameters or use default values as a workaround. See gh-91126 for full details.\n",
    "        Added in version 3.10.\n",
    "\n",
    "        Changed in version 3.11: If a field name is already included in the __slots__ of a base class, it will not be included in the generated __slots__ to prevent overriding them. Therefore, do not use __slots__ to retrieve the field names of a dataclass. Use fields() instead. To be able to determine inherited slots, base class __slots__ may be any iterable, but not an iterator.\n",
    "\n",
    "- weakref_slot: If true (the default is False), add a slot named “__weakref__”, which is required to make an instance weakref-able. It is an error to specify weakref_slot=True without also specifying slots=True.\n",
    "\n",
    "        Added in version 3.11."
   ]
  },
  {
   "cell_type": "markdown",
   "id": "cc2ae0a4",
   "metadata": {},
   "source": [
    "## Init, Order, Frozen"
   ]
  },
  {
   "cell_type": "code",
   "execution_count": 42,
   "id": "1d2c550e",
   "metadata": {},
   "outputs": [],
   "source": [
    "from dataclasses import dataclass\n",
    "from typing import ClassVar\n",
    "# order=True,frozen=False\n",
    "@dataclass(repr=False,order=True,eq=True)\n",
    "class Person:\n",
    "    name: str\n",
    "    age: int\n",
    "    language_of_country: ClassVar[str] = \"English\""
   ]
  },
  {
   "cell_type": "code",
   "execution_count": 43,
   "id": "6a0c47fa",
   "metadata": {},
   "outputs": [
    {
     "name": "stdout",
     "output_type": "stream",
     "text": [
      "---------------------\n",
      "<__main__.Person object at 0x7f637b309460>\n",
      "<__main__.Person object at 0x7f637b4f20c0>\n",
      "---------------------\n",
      "False\n",
      "---------------------\n",
      "True\n",
      "---------------------\n",
      "<__main__.Person object at 0x7f637b309460>\n",
      "---------------------\n"
     ]
    }
   ],
   "source": [
    "P1 = Person(\"John\", 30)\n",
    "P2 = Person(\"John\", 35)\n",
    "print(\"---------------------\")\n",
    "print(P1)\n",
    "print(P2)\n",
    "print(\"---------------------\")\n",
    "print(P1 == P2)\n",
    "print(\"---------------------\")\n",
    "print(P1<P2)\n",
    "print(\"---------------------\")\n",
    "P1.name = \"Johny\" # AttributeError: can't set attribute\n",
    "print(P1)\n",
    "print(\"---------------------\")"
   ]
  },
  {
   "cell_type": "markdown",
   "id": "e1d3e154",
   "metadata": {},
   "source": [
    "## unsafe_hash:"
   ]
  },
  {
   "cell_type": "code",
   "execution_count": 44,
   "id": "b4ac8ef0",
   "metadata": {},
   "outputs": [
    {
     "name": "stdout",
     "output_type": "stream",
     "text": [
      "5044830292109191378\n",
      "-3376205989445470457\n",
      "American(country='UK', language='English')\n"
     ]
    }
   ],
   "source": [
    "from dataclasses import dataclass\n",
    "\n",
    "@dataclass(unsafe_hash=True)\n",
    "class American:\n",
    "    country: str \n",
    "    language: str \n",
    "    def print_country(self):\n",
    "        print(f\"Country: {self.country}\")\n",
    "    def print_language(self):\n",
    "        print(f\"Language: {self.language}\")\n",
    "\n",
    "A = American('Pakistan', 'Urdu')\n",
    "print(hash(A))\n",
    "\n",
    "A.country = \"UK\"\n",
    "A.language = \"English\"\n",
    "print(hash(A))\n",
    "\n",
    "print(A)\n"
   ]
  },
  {
   "cell_type": "markdown",
   "id": "541cae02",
   "metadata": {},
   "source": [
    "# Example of hash"
   ]
  },
  {
   "cell_type": "code",
   "execution_count": 47,
   "id": "8ea2ac39",
   "metadata": {},
   "outputs": [
    {
     "name": "stdout",
     "output_type": "stream",
     "text": [
      "5044830292109191378\n",
      "-3376205989445470457\n",
      "American(country='UK', language='English')\n"
     ]
    }
   ],
   "source": [
    "from dataclasses import dataclass\n",
    "\n",
    "@dataclass(unsafe_hash=True)\n",
    "class American:\n",
    "    country:str = \"USA\"\n",
    "    language: str = \"English\"\n",
    "    def print_country(self):\n",
    "        print(f\"Country: {self.country}\")\n",
    "    def print_language(self):\n",
    "        print(f\"Language: {self.language}\")\n",
    "\n",
    "A = American(\"Pakistan\", \"Urdu\")\n",
    "print(hash(A))\n",
    "\n",
    "A.country = \"UK\"\n",
    "A.language = \"English\"\n",
    "print(hash(A))\n",
    "\n",
    "print(A)"
   ]
  }
 ],
 "metadata": {
  "kernelspec": {
   "display_name": "Python 3",
   "language": "python",
   "name": "python3"
  },
  "language_info": {
   "codemirror_mode": {
    "name": "ipython",
    "version": 3
   },
   "file_extension": ".py",
   "mimetype": "text/x-python",
   "name": "python",
   "nbconvert_exporter": "python",
   "pygments_lexer": "ipython3",
   "version": "3.12.4"
  }
 },
 "nbformat": 4,
 "nbformat_minor": 5
}
