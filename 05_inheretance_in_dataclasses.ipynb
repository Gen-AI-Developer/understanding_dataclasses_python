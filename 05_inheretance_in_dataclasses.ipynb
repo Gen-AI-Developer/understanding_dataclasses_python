{
 "cells": [
  {
   "cell_type": "markdown",
   "id": "c3a9982c",
   "metadata": {},
   "source": [
    "# Dataclasses in Python (Part-5) | Inheritance"
   ]
  },
  {
   "cell_type": "code",
   "execution_count": 1,
   "id": "8c2fb36c",
   "metadata": {},
   "outputs": [],
   "source": [
    "from dataclasses import dataclass, field\n",
    "\n",
    "@dataclass\n",
    "class PersonS:\n",
    "    name: str\n",
    "    age: int\n",
    "\n",
    "@dataclass\n",
    "class Student(PersonS):\n",
    "    grade : int\n",
    "    subjects: list\n",
    "    roll_no: int\n",
    "    def info(self):\n",
    "        return f\"Name: {self.name}, Age: {self.age}, Grade: {self.grade}, Subjects: {self.subjects}, Roll No: {self.roll_no}\""
   ]
  },
  {
   "cell_type": "code",
   "execution_count": 2,
   "id": "c746121d",
   "metadata": {},
   "outputs": [
    {
     "name": "stdout",
     "output_type": "stream",
     "text": [
      "Name: Safdar, Age: 63, Grade: 12, Subjects: ['Maths', 'Physics', 'Chemistry'], Roll No: 123\n"
     ]
    }
   ],
   "source": [
    "student1 = Student(\"Safdar\", 63, 12, [\"Maths\", \"Physics\", \"Chemistry\"], 123)\n",
    "print(student1.info())"
   ]
  },
  {
   "cell_type": "code",
   "execution_count": 3,
   "id": "fc6225ce",
   "metadata": {},
   "outputs": [
    {
     "data": {
      "text/plain": [
       "B(x=30, y=20, z=40)"
      ]
     },
     "execution_count": 3,
     "metadata": {},
     "output_type": "execute_result"
    }
   ],
   "source": [
    "@dataclass\n",
    "class A:\n",
    "    x: int = 10\n",
    "    y: int = 20\n",
    "\n",
    "@dataclass\n",
    "class B(A):\n",
    "    x: int = 30\n",
    "    z: int = 40\n",
    "\n",
    "b = B()\n",
    "b"
   ]
  }
 ],
 "metadata": {
  "kernelspec": {
   "display_name": "Python 3",
   "language": "python",
   "name": "python3"
  },
  "language_info": {
   "codemirror_mode": {
    "name": "ipython",
    "version": 3
   },
   "file_extension": ".py",
   "mimetype": "text/x-python",
   "name": "python",
   "nbconvert_exporter": "python",
   "pygments_lexer": "ipython3",
   "version": "3.12.4"
  }
 },
 "nbformat": 4,
 "nbformat_minor": 5
}
