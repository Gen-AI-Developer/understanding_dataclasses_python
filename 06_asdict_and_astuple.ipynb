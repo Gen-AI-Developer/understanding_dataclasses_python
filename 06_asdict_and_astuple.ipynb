{
 "cells": [
  {
   "cell_type": "markdown",
   "id": "72d8ea10",
   "metadata": {},
   "source": [
    "# Dataclasses in Python (Part-6) | asdict and astuple\n"
   ]
  },
  {
   "cell_type": "code",
   "execution_count": 1,
   "id": "ccdd8392",
   "metadata": {},
   "outputs": [],
   "source": [
    "from dataclasses import dataclass, asdict,astuple\n",
    "\n",
    "@dataclass\n",
    "class Address:\n",
    "    log: float \n",
    "    lat: float\n",
    "    city: str\n",
    "    country: str\n",
    "\n",
    "@dataclass\n",
    "class User:\n",
    "    name: str\n",
    "    address: Address"
   ]
  },
  {
   "cell_type": "code",
   "execution_count": 2,
   "id": "92eaece1",
   "metadata": {},
   "outputs": [
    {
     "name": "stdout",
     "output_type": "stream",
     "text": [
      "User(name='Safdar', address=Address(log=33.6844, lat=73.0479, city='Islamabad', country='Pakistan'))\n"
     ]
    }
   ],
   "source": [
    "a = Address(33.6844, 73.0479, \"Islamabad\", \"Pakistan\")\n",
    "u = User(\"Safdar\", a)\n",
    "print(u)"
   ]
  },
  {
   "cell_type": "code",
   "execution_count": 3,
   "id": "d33b5288",
   "metadata": {},
   "outputs": [
    {
     "data": {
      "text/plain": [
       "{'name': 'Safdar',\n",
       " 'address': {'log': 33.6844,\n",
       "  'lat': 73.0479,\n",
       "  'city': 'Islamabad',\n",
       "  'country': 'Pakistan'}}"
      ]
     },
     "execution_count": 3,
     "metadata": {},
     "output_type": "execute_result"
    }
   ],
   "source": [
    "asdict(u)"
   ]
  },
  {
   "cell_type": "code",
   "execution_count": 4,
   "id": "f0e2334b",
   "metadata": {},
   "outputs": [
    {
     "data": {
      "text/plain": [
       "('Safdar', (33.6844, 73.0479, 'Islamabad', 'Pakistan'))"
      ]
     },
     "execution_count": 4,
     "metadata": {},
     "output_type": "execute_result"
    }
   ],
   "source": [
    "astuple(u)"
   ]
  },
  {
   "cell_type": "code",
   "execution_count": 5,
   "id": "00a92561",
   "metadata": {},
   "outputs": [
    {
     "data": {
      "text/plain": [
       "'{\"name\": \"Safdar\", \"address\": {\"log\": 33.6844, \"lat\": 73.0479, \"city\": \"Islamabad\", \"country\": \"Pakistan\"}}'"
      ]
     },
     "execution_count": 5,
     "metadata": {},
     "output_type": "execute_result"
    }
   ],
   "source": [
    "import json\n",
    "\n",
    "json.dumps(asdict(u))   "
   ]
  }
 ],
 "metadata": {
  "kernelspec": {
   "display_name": "Python 3",
   "language": "python",
   "name": "python3"
  },
  "language_info": {
   "codemirror_mode": {
    "name": "ipython",
    "version": 3
   },
   "file_extension": ".py",
   "mimetype": "text/x-python",
   "name": "python",
   "nbconvert_exporter": "python",
   "pygments_lexer": "ipython3",
   "version": "3.12.4"
  }
 },
 "nbformat": 4,
 "nbformat_minor": 5
}
