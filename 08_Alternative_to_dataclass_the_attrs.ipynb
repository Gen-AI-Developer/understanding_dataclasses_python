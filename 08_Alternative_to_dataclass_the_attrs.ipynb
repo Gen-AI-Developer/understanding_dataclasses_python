{
 "cells": [
  {
   "cell_type": "markdown",
   "id": "03097609",
   "metadata": {},
   "source": [
    "# Attrs the Alternative to @dataclass"
   ]
  },
  {
   "cell_type": "code",
   "execution_count": null,
   "id": "b66c70ef",
   "metadata": {
    "vscode": {
     "languageId": "plaintext"
    }
   },
   "outputs": [],
   "source": []
  }
 ],
 "metadata": {
  "language_info": {
   "name": "python"
  }
 },
 "nbformat": 4,
 "nbformat_minor": 5
}
