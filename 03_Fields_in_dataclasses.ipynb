{
 "cells": [
  {
   "cell_type": "code",
   "execution_count": 9,
   "id": "1da51c3a",
   "metadata": {},
   "outputs": [
    {
     "name": "stdout",
     "output_type": "stream",
     "text": [
      "5740354900026072187\n",
      "5740354900026072187\n",
      "American()\n"
     ]
    },
    {
     "data": {
      "text/plain": [
       "{}"
      ]
     },
     "execution_count": 9,
     "metadata": {},
     "output_type": "execute_result"
    }
   ],
   "source": [
    "from dataclasses import dataclass\n",
    "\n",
    "@dataclass(unsafe_hash=True)\n",
    "class American:\n",
    "    country = \"USA\"\n",
    "    language = \"English\"\n",
    "    def print_country(self):\n",
    "        print(f\"Country: {self.country}\")\n",
    "    def print_language(self):\n",
    "        print(f\"Language: {self.language}\")\n",
    "\n",
    "A = American()\n",
    "print(hash(A))\n",
    "\n",
    "A.country = \"UK\"\n",
    "A.language = \"English\"\n",
    "print(hash(A))\n",
    "\n",
    "print(A)\n",
    "A.__dataclass_fields__"
   ]
  },
  {
   "cell_type": "markdown",
   "id": "849a5452",
   "metadata": {},
   "source": [
    "# Dataclasses in Python (Part-3) | DataClass Fields\n",
    "## _Dataclass_fields"
   ]
  },
  {
   "cell_type": "code",
   "execution_count": 5,
   "id": "ae94e273",
   "metadata": {},
   "outputs": [],
   "source": [
    "class Personp:\n",
    "    name : str = \"John\"\n",
    "    age : int = 36\n",
    "    city : str = \"New York\"\n",
    "    skills: list = []\n",
    "    def __init__(self, name, age, city, skills):\n",
    "        self.name = name\n",
    "        self.age = age\n",
    "        self.city = city\n",
    "        self.skills = skills\n",
    "    def info(self):\n",
    "        return f\"Name: {self.name}, Age: {self.age}, City: {self.city}, Skills: {self.skills}\""
   ]
  },
  {
   "cell_type": "code",
   "execution_count": 10,
   "id": "980681ee",
   "metadata": {},
   "outputs": [
    {
     "name": "stdout",
     "output_type": "stream",
     "text": [
      "Name: Safdar, Age: 63, City: Peshawar, Skills: ['AI', 'ML', 'DS']\n",
      "<__main__.Personp object at 0x7fbd7866a870>\n"
     ]
    },
    {
     "data": {
      "text/plain": [
       "{}"
      ]
     },
     "execution_count": 10,
     "metadata": {},
     "output_type": "execute_result"
    }
   ],
   "source": [
    "P = Personp(\"Safdar\", 63, \"Peshawar\", [\"AI\", \"ML\", \"DS\"])\n",
    "print(P.info())\n",
    "print(P)\n",
    "A.__dataclass_fields__"
   ]
  },
  {
   "cell_type": "code",
   "execution_count": 11,
   "id": "f3a4380d",
   "metadata": {},
   "outputs": [],
   "source": [
    "from dataclasses import dataclass, field\n",
    "@dataclass\n",
    "class PersonDC:\n",
    "    name : str = \"John\"\n",
    "    age : int = 36\n",
    "    city : str = \"New York\"\n",
    "    skills: list = field(default_factory=list)\n",
    "    def info(self):\n",
    "        return f\"Name: {self.name}, Age: {self.age}, City: {self.city}, Skills: {self.skills}\""
   ]
  },
  {
   "cell_type": "code",
   "execution_count": 12,
   "id": "13c4b135",
   "metadata": {},
   "outputs": [
    {
     "name": "stdout",
     "output_type": "stream",
     "text": [
      "PersonDC(name='Safdar', age=63, city='Peshawar', skills=['AI', 'ML', 'DS'])\n",
      "{'name': Field(name='name',type=<class 'str'>,default='John',default_factory=<dataclasses._MISSING_TYPE object at 0x7fbd82bbddc0>,init=True,repr=True,hash=None,compare=True,metadata=mappingproxy({}),kw_only=False,_field_type=_FIELD), 'age': Field(name='age',type=<class 'int'>,default=36,default_factory=<dataclasses._MISSING_TYPE object at 0x7fbd82bbddc0>,init=True,repr=True,hash=None,compare=True,metadata=mappingproxy({}),kw_only=False,_field_type=_FIELD), 'city': Field(name='city',type=<class 'str'>,default='New York',default_factory=<dataclasses._MISSING_TYPE object at 0x7fbd82bbddc0>,init=True,repr=True,hash=None,compare=True,metadata=mappingproxy({}),kw_only=False,_field_type=_FIELD), 'skills': Field(name='skills',type=<class 'list'>,default=<dataclasses._MISSING_TYPE object at 0x7fbd82bbddc0>,default_factory=<class 'list'>,init=True,repr=True,hash=None,compare=True,metadata=mappingproxy({}),kw_only=False,_field_type=_FIELD)}\n"
     ]
    }
   ],
   "source": [
    "P = PersonDC(\"Safdar\", 63, \"Peshawar\", [\"AI\", \"ML\", \"DS\"])\n",
    "print(P)\n",
    "print(P.__dataclass_fields__)"
   ]
  },
  {
   "cell_type": "code",
   "execution_count": 13,
   "id": "7ec23632",
   "metadata": {},
   "outputs": [
    {
     "data": {
      "text/plain": [
       "32"
      ]
     },
     "execution_count": 13,
     "metadata": {},
     "output_type": "execute_result"
    }
   ],
   "source": [
    "def get_default_ages()->int:\n",
    "    ages =  [20,22,24,29,30,34,33,40,45,48]\n",
    "    return int(sum(ages)/len(ages))\n",
    "get_default_ages()"
   ]
  },
  {
   "cell_type": "markdown",
   "id": "8e25cdbd",
   "metadata": {},
   "source": [
    "### default factory must have xero positional Arguments in field()\n",
    "\n",
    "INit and Not important field in __ repr __\n"
   ]
  },
  {
   "cell_type": "code",
   "execution_count": 14,
   "id": "f3557dca",
   "metadata": {},
   "outputs": [],
   "source": [
    "from dataclasses import dataclass, field\n",
    "@dataclass\n",
    "class PersonDC:\n",
    "    name : str = \"John\"\n",
    "    city: str = field(default=\"Moscow\",init=False)\n",
    "    age : int = field(default_factory=get_default_ages,metadata={'format':'yy-mm-dd'})\n",
    "    not_important_field: str = field(default='not important value',repr=False, hash=False, compare=False)\n",
    "    def info(self):\n",
    "        return f\"Name: {self.name}, Age: {self.age}, City: {self.city}\""
   ]
  },
  {
   "cell_type": "code",
   "execution_count": 15,
   "id": "1174b84d",
   "metadata": {},
   "outputs": [
    {
     "name": "stdout",
     "output_type": "stream",
     "text": [
      "PersonDC(name='Safdar', city='Moscow', age=32)\n",
      "Field(name='age',type=<class 'int'>,default=<dataclasses._MISSING_TYPE object at 0x7fbd82bbddc0>,default_factory=<function get_default_ages at 0x7fbd78662980>,init=True,repr=True,hash=None,compare=True,metadata=mappingproxy({'format': 'yy-mm-dd'}),kw_only=False,_field_type=_FIELD)\n"
     ]
    }
   ],
   "source": [
    "P = PersonDC(\"Safdar\")\n",
    "print(P)\n",
    "print(P.__dataclass_fields__['age'])"
   ]
  }
 ],
 "metadata": {
  "kernelspec": {
   "display_name": "Python 3",
   "language": "python",
   "name": "python3"
  },
  "language_info": {
   "codemirror_mode": {
    "name": "ipython",
    "version": 3
   },
   "file_extension": ".py",
   "mimetype": "text/x-python",
   "name": "python",
   "nbconvert_exporter": "python",
   "pygments_lexer": "ipython3",
   "version": "3.12.4"
  }
 },
 "nbformat": 4,
 "nbformat_minor": 5
}
