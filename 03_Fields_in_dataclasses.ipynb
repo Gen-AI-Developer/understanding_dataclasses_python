{
 "cells": [
  {
   "cell_type": "code",
   "execution_count": 9,
   "id": "1da51c3a",
   "metadata": {},
   "outputs": [
    {
     "name": "stdout",
     "output_type": "stream",
     "text": [
      "5740354900026072187\n",
      "5740354900026072187\n",
      "American()\n"
     ]
    },
    {
     "data": {
      "text/plain": [
       "{}"
      ]
     },
     "execution_count": 9,
     "metadata": {},
     "output_type": "execute_result"
    }
   ],
   "source": [
    "from dataclasses import dataclass\n",
    "\n",
    "@dataclass(unsafe_hash=True)\n",
    "class American:\n",
    "    country = \"USA\"\n",
    "    language = \"English\"\n",
    "    def print_country(self):\n",
    "        print(f\"Country: {self.country}\")\n",
    "    def print_language(self):\n",
    "        print(f\"Language: {self.language}\")\n",
    "\n",
    "A = American()\n",
    "print(hash(A))\n",
    "\n",
    "A.country = \"UK\"\n",
    "A.language = \"English\"\n",
    "print(hash(A))\n",
    "\n",
    "print(A)\n",
    "A.__dataclass_fields__"
   ]
  },
  {
   "cell_type": "markdown",
   "id": "849a5452",
   "metadata": {},
   "source": [
    "# Dataclasses in Python (Part-3) | DataClass Fields\n",
    "## _Dataclass_fields"
   ]
  },
  {
   "cell_type": "code",
   "execution_count": 12,
   "id": "ae94e273",
   "metadata": {},
   "outputs": [],
   "source": [
    "from typing import Optional\n",
    "class Personp:\n",
    "    name : str = \"John\"\n",
    "    age : int = 36\n",
    "    city : str = \"New York\"\n",
    "    skills: Optional[list] = ['skillz']\n",
    "    def __init__(self, name, age, city, skills):\n",
    "        self.name = name\n",
    "        self.age = age\n",
    "        self.city = city\n",
    "        self.skills = skills\n",
    "    def info(self):\n",
    "        return f\"Name: {self.name}, Age: {self.age}, City: {self.city}, Skills: {self.skills}\""
   ]
  },
  {
   "cell_type": "code",
   "execution_count": 15,
   "id": "980681ee",
   "metadata": {},
   "outputs": [
    {
     "name": "stdout",
     "output_type": "stream",
     "text": [
      "['skillz']\n",
      "Name: Safdar, Age: 63, City: Peshawar, Skills: ['Python', 'Java', 'C++']\n",
      "<__main__.Personp object at 0x7fb91f1f3e30>\n"
     ]
    }
   ],
   "source": [
    "print(Personp.skills)\n",
    "P = Personp(\"Safdar\", 63, \"Peshawar\", [\"Python\", \"Java\", \"C++\"])\n",
    "print(P.info())\n",
    "print(P)\n",
    "# A.__dataclass_fields__"
   ]
  },
  {
   "cell_type": "code",
   "execution_count": 16,
   "id": "f3a4380d",
   "metadata": {},
   "outputs": [],
   "source": [
    "from dataclasses import dataclass, field\n",
    "@dataclass\n",
    "class PersonDC:\n",
    "    name : str = \"John\"\n",
    "    age : int = 36\n",
    "    city : str = \"New York\"\n",
    "    skills: list = field(default_factory=list)\n",
    "    def info(self):\n",
    "        return f\"Name: {self.name}, Age: {self.age}, City: {self.city}, Skills: {self.skills}\""
   ]
  },
  {
   "cell_type": "code",
   "execution_count": 20,
   "id": "13c4b135",
   "metadata": {},
   "outputs": [
    {
     "name": "stdout",
     "output_type": "stream",
     "text": [
      "PersonDC(name='Safdar', age=63, city='Peshawar', skills=['AI', 'ML', 'DS'])\n",
      "Field(name='name',type=<class 'str'>,default='John',default_factory=<dataclasses._MISSING_TYPE object at 0x7fb941eb1a60>,init=True,repr=True,hash=None,compare=True,metadata=mappingproxy({}),kw_only=False,_field_type=_FIELD)\n"
     ]
    }
   ],
   "source": [
    "P = PersonDC(\"Safdar\", 63, \"Peshawar\", [\"AI\", \"ML\", \"DS\"])\n",
    "print(P)\n",
    "print(P.__dataclass_fields__['name'])"
   ]
  },
  {
   "cell_type": "code",
   "execution_count": 23,
   "id": "7ec23632",
   "metadata": {},
   "outputs": [
    {
     "data": {
      "text/plain": [
       "32"
      ]
     },
     "execution_count": 23,
     "metadata": {},
     "output_type": "execute_result"
    }
   ],
   "source": [
    "def get_default_ages()->int:\n",
    "    ages =  [20,22,24,29,30,34,33,40,45,48]\n",
    "    return int(sum(ages)/len(ages))\n",
    "get_default_ages()"
   ]
  },
  {
   "cell_type": "markdown",
   "id": "8e25cdbd",
   "metadata": {},
   "source": [
    "### default factory must have xero positional Arguments in field()\n",
    "\n",
    "INit and Not important field in __ repr __\n"
   ]
  },
  {
   "cell_type": "code",
   "execution_count": null,
   "id": "f3557dca",
   "metadata": {},
   "outputs": [],
   "source": [
    "from dataclasses import dataclass, field\n",
    "@dataclass\n",
    "class PersonDC:\n",
    "    name : str = \"John\"\n",
    "    city: str = field(default=\"Moscow\",init=False)\n",
    "    age : int = field(default_factory=get_default_ages,metadata={'format':'yy-mm-dd'})\n",
    "    not_important_field: str = field(default='not important value',repr=False, hash=False)\n",
    "    def info(self):\n",
    "        return f\"Name: {self.name}, Age: {self.age}, City: {self.city}\""
   ]
  },
  {
   "cell_type": "code",
   "execution_count": 35,
   "id": "1174b84d",
   "metadata": {},
   "outputs": [
    {
     "name": "stdout",
     "output_type": "stream",
     "text": [
      "PersonDC(name='Safdar', city='Moscow', age=32)\n",
      "{'format': 'yy-mm-dd'}\n"
     ]
    }
   ],
   "source": [
    "P = PersonDC(\"Safdar\")\n",
    "print(P)\n",
    "print(P.__dataclass_fields__['age'].metadata)"
   ]
  }
 ],
 "metadata": {
  "kernelspec": {
   "display_name": "Python 3",
   "language": "python",
   "name": "python3"
  },
  "language_info": {
   "codemirror_mode": {
    "name": "ipython",
    "version": 3
   },
   "file_extension": ".py",
   "mimetype": "text/x-python",
   "name": "python",
   "nbconvert_exporter": "python",
   "pygments_lexer": "ipython3",
   "version": "3.12.4"
  }
 },
 "nbformat": 4,
 "nbformat_minor": 5
}
