{
 "cells": [
  {
   "cell_type": "markdown",
   "id": "e0a5064c",
   "metadata": {},
   "source": [
    "# Dataclasses in Python (Part-4) | Introduction to DataClasses\n"
   ]
  },
  {
   "cell_type": "code",
   "execution_count": 1,
   "id": "07213bbd",
   "metadata": {},
   "outputs": [],
   "source": [
    "from dataclasses import dataclass\n",
    "from typing import ClassVar\n",
    "\n",
    "@dataclass\n",
    "class Person:\n",
    "    name: str\n",
    "    age: int\n",
    "    city: str\n",
    "    place_of_birth: str \n",
    "    language_of_country: ClassVar[str] = \"English\"\n",
    "\n",
    "    def print_current_person(self):\n",
    "        print(f\"{self.name} is {self.age} years old and lives in {self.city}, born in {self.place_of_birth} and speaks {Person.language_of_country}\")\n",
    "    def walking(self):\n",
    "        print(f\"{self.name} is walking\")\n",
    "    def running(self):\n",
    "        print(f\"{self.name} is running\")\n",
    "    def eating(self):\n",
    "        print(f\"{self.name} is eating\")\n",
    "    def sleeping(self):\n",
    "        print(f\"{self.name} is sleeping\")\n",
    "    def working(self):\n",
    "        print(f\"{self.name} is working\")"
   ]
  },
  {
   "cell_type": "code",
   "execution_count": 2,
   "id": "ad956584",
   "metadata": {},
   "outputs": [
    {
     "name": "stdout",
     "output_type": "stream",
     "text": [
      "default Representation with dataclasses:  Person(name='John', age=36, city='New York', place_of_birth='New York')\n"
     ]
    }
   ],
   "source": [
    "# Representation of the dataclass\n",
    "P = Person(\"John\", 36, \"New York\", \"New York\")\n",
    "# print(P.print_current_person) # Output: Person(name='John', age=36, city='New York', place_of_birth='New York')\n",
    "print(\"default Representation with dataclasses: \",P) # Output: Person(name='John', age=36, city='New York', place_of_birth='New York')\n"
   ]
  }
 ],
 "metadata": {
  "kernelspec": {
   "display_name": "Python 3",
   "language": "python",
   "name": "python3"
  },
  "language_info": {
   "codemirror_mode": {
    "name": "ipython",
    "version": 3
   },
   "file_extension": ".py",
   "mimetype": "text/x-python",
   "name": "python",
   "nbconvert_exporter": "python",
   "pygments_lexer": "ipython3",
   "version": "3.12.4"
  }
 },
 "nbformat": 4,
 "nbformat_minor": 5
}
