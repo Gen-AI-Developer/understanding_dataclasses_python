{
 "cells": [
  {
   "cell_type": "markdown",
   "id": "9d65c301",
   "metadata": {},
   "source": [
    "# Dataclasses in Python (Part-4) | post-init processing"
   ]
  },
  {
   "cell_type": "code",
   "execution_count": 1,
   "id": "d85f883f",
   "metadata": {},
   "outputs": [],
   "source": [
    "from dataclasses import dataclass, field\n",
    "\n",
    "@dataclass\n",
    "class PersonT:\n",
    "    name: str\n",
    "    age: int\n",
    "    is_senior: bool = field(init=False)\n",
    "\n",
    "    def __post_init__(self):\n",
    "        if self.age >= 65:\n",
    "            self.is_senior = True\n",
    "        else:\n",
    "            self.is_senior = False\n",
    "    def info(self):\n",
    "        return f\"Name: {self.name}, Age: {self.age}, is_senior: {self.is_senior}\""
   ]
  },
  {
   "cell_type": "code",
   "execution_count": 2,
   "id": "61ebfd55",
   "metadata": {},
   "outputs": [
    {
     "name": "stdout",
     "output_type": "stream",
     "text": [
      "Name: Safdar, Age: 63, is_senior: False\n",
      "False\n"
     ]
    }
   ],
   "source": [
    "Pt = PersonT(\"Safdar\", 63)\n",
    "print(Pt.info())\n",
    "print(Pt.is_senior)"
   ]
  }
 ],
 "metadata": {
  "kernelspec": {
   "display_name": "Python 3",
   "language": "python",
   "name": "python3"
  },
  "language_info": {
   "codemirror_mode": {
    "name": "ipython",
    "version": 3
   },
   "file_extension": ".py",
   "mimetype": "text/x-python",
   "name": "python",
   "nbconvert_exporter": "python",
   "pygments_lexer": "ipython3",
   "version": "3.12.4"
  }
 },
 "nbformat": 4,
 "nbformat_minor": 5
}
