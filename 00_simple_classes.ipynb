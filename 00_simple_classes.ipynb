{
 "cells": [
  {
   "cell_type": "markdown",
   "id": "ccdbb598",
   "metadata": {},
   "source": [
    "## Simple Classes\n"
   ]
  },
  {
   "cell_type": "code",
   "execution_count": null,
   "id": "aaa19164",
   "metadata": {},
   "outputs": [],
   "source": [
    "class Person2:\n",
    "    def __init__(self, name, age):\n",
    "        self.name = name\n",
    "        self.age = age\n",
    "\n",
    "    def info(self)->str:\n",
    "        return f\"Name: {self.name}, Age: {self.age}\""
   ]
  },
  {
   "cell_type": "code",
   "execution_count": 5,
   "id": "b6bef1ea",
   "metadata": {},
   "outputs": [
    {
     "name": "stdout",
     "output_type": "stream",
     "text": [
      "John\n",
      "default represenation without data class <__main__.Person2 object at 0x7ff8048a1700>\n",
      "<__main__.Person2 object at 0x7ff8048a1700>\n"
     ]
    }
   ],
   "source": [
    "#p2 is example of Person2 class which is not a dataclass\n",
    "P2 = Person2(\"John\", 36)\n",
    "print(P2.name)\n",
    "print(\"default represenation without data class\",P2) \n",
    "print(repr(P2))"
   ]
  },
  {
   "cell_type": "code",
   "execution_count": null,
   "id": "708af872",
   "metadata": {},
   "outputs": [],
   "source": [
    "class RectangleClass:\n",
    "    def __init__(self,name ,age):\n",
    "        self.name = name\n",
    "        self.age = age\n",
    "    def __repr__(self):\n",
    "        return (f\"{self.__class__.__name__}\"\n",
    "                f\"({self.name!r}, {self.age!r})\")\n",
    "    def __eq__(self, other):\n",
    "        if other.__class__ is self.__class__:\n",
    "            return (self.name, self.age) == (other.name, other.age)\n",
    "        return NotImplemented"
   ]
  },
  {
   "cell_type": "code",
   "execution_count": null,
   "id": "012bbe08",
   "metadata": {},
   "outputs": [
    {
     "name": "stdout",
     "output_type": "stream",
     "text": [
      "RegularClass('John', 36)\n",
      "RegularClass('John', 36)\n",
      "True\n"
     ]
    }
   ],
   "source": [
    "rc = RectangleClass(\"John\", 36)\n",
    "print(rc)\n",
    "rc2 = RectangleClass(\"John\", 36)\n",
    "print(rc2)\n",
    "print(rc == rc2)"
   ]
  },
  {
   "cell_type": "code",
   "execution_count": 9,
   "id": "664fd06e",
   "metadata": {},
   "outputs": [
    {
     "name": "stdout",
     "output_type": "stream",
     "text": [
      "NamedTupleData(name='John', age=36, city='New York')\n",
      "False\n",
      "Johnny\n",
      "33\n",
      "New Yorker\n"
     ]
    },
    {
     "data": {
      "text/plain": [
       "True"
      ]
     },
     "execution_count": 9,
     "metadata": {},
     "output_type": "execute_result"
    }
   ],
   "source": [
    "from collections import namedtuple\n",
    "NamedTupleData = namedtuple('NamedTupleData', ['name', 'age', 'city']) \n",
    "nd = NamedTupleData('John', 36, 'New York')\n",
    "nd2 = NamedTupleData('Johnny', 33, 'New Yorker')\n",
    "print(nd) \n",
    "print(nd == nd2)\n",
    "print(nd2.name)\n",
    "print(nd2.age)\n",
    "print(nd2.city)\n",
    "nd == ('John',36,'New York')"
   ]
  },
  {
   "cell_type": "markdown",
   "id": "b04b115a",
   "metadata": {},
   "source": [
    "## Representation Method"
   ]
  },
  {
   "cell_type": "code",
   "execution_count": 11,
   "id": "f75d70a6",
   "metadata": {},
   "outputs": [],
   "source": [
    "class Person2:\n",
    "    def __init__(self, name, age):\n",
    "        self.name = name\n",
    "        self.age = age\n",
    "\n",
    "    def info(self):\n",
    "        return f\"Name: {self.name}, Age: {self.age}\"\n",
    "    def __str__(self):\n",
    "        return f\"Person with __str__('{self.name}', {self.age})\"\n",
    "    def __repr__(self):\n",
    "        return f\"Person2 with __repr__('{self.name}', {self.age})\""
   ]
  },
  {
   "cell_type": "code",
   "execution_count": 12,
   "id": "e8608309",
   "metadata": {},
   "outputs": [
    {
     "name": "stdout",
     "output_type": "stream",
     "text": [
      "default represenation with __dunder__:  Person with __str__('John', 36)\n"
     ]
    }
   ],
   "source": [
    "#p2 is example of Person2 class which is not a dataclass\n",
    "P2 = Person2(\"John\", 36)\n",
    "print(\"default represenation with __dunder__: \",P2) "
   ]
  },
  {
   "cell_type": "code",
   "execution_count": 5,
   "id": "de1da4ff",
   "metadata": {},
   "outputs": [],
   "source": [
    "class Person2:\n",
    "    def __init__(self, name, age):\n",
    "        self.name = name\n",
    "        self.age = age\n",
    "\n",
    "    def info(self):\n",
    "        return f\"Name: {self.name}, Age: {self.age}\"\n",
    "    def __repr__(self):\n",
    "        return f\"Person2('{self.name}', {self.age})\""
   ]
  },
  {
   "cell_type": "code",
   "execution_count": null,
   "id": "7b838af9",
   "metadata": {},
   "outputs": [
    {
     "name": "stdout",
     "output_type": "stream",
     "text": [
      "False\n",
      "140719244456208 140719235231056\n"
     ]
    },
    {
     "data": {
      "text/plain": [
       "False"
      ]
     },
     "execution_count": 20,
     "metadata": {},
     "output_type": "execute_result"
    }
   ],
   "source": [
    "P2 = Person2(\"John\", 36)\n",
    "P3 = Person2(\"John\", 36)\n",
    "print(P2 == P3)\n",
    "print(id(P2), id(P3))\n",
    "P2 is P3"
   ]
  },
  {
   "cell_type": "markdown",
   "id": "7a72848c",
   "metadata": {},
   "source": [
    "## Object Equal\n",
    "### Object.__ equal __\n",
    "Its mean they checking memory location not the content of object in = =  let's override the object equal method"
   ]
  },
  {
   "cell_type": "code",
   "execution_count": 32,
   "id": "dd9f1297",
   "metadata": {},
   "outputs": [],
   "source": [
    "class Person2:\n",
    "    def __init__(self, name, age):\n",
    "        self.name = name\n",
    "        self.age = age\n",
    "\n",
    "    def info(self):\n",
    "        return f\"Name: {self.name}, Age: {self.age}\"\n",
    "    def __repr__(self):\n",
    "        return f\"Person2('{self.name}', {self.age})\"\n",
    "    def __eq__(self, other):\n",
    "        # return self.name == other.name and self.age == other.age\n",
    "        # return self.__dict__ == other.__dict__\n",
    "        return (self.name, self.age)==(other.name, other.age)"
   ]
  },
  {
   "cell_type": "code",
   "execution_count": 33,
   "id": "96abb5ee",
   "metadata": {},
   "outputs": [
    {
     "name": "stdout",
     "output_type": "stream",
     "text": [
      "True\n",
      "True\n"
     ]
    }
   ],
   "source": [
    "P2 = Person2(\"John\", 33)\n",
    "P3 = Person2(\"John\", 33)\n",
    "print(P2.__eq__(P3))\n",
    "print(P2 == P3)"
   ]
  }
 ],
 "metadata": {
  "kernelspec": {
   "display_name": "Python 3",
   "language": "python",
   "name": "python3"
  },
  "language_info": {
   "codemirror_mode": {
    "name": "ipython",
    "version": 3
   },
   "file_extension": ".py",
   "mimetype": "text/x-python",
   "name": "python",
   "nbconvert_exporter": "python",
   "pygments_lexer": "ipython3",
   "version": "3.12.4"
  }
 },
 "nbformat": 4,
 "nbformat_minor": 5
}
