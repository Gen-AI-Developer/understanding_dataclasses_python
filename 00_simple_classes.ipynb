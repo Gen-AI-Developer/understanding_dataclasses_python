{
 "cells": [
  {
   "cell_type": "markdown",
   "id": "ccdbb598",
   "metadata": {},
   "source": [
    "## Simple Classes\n"
   ]
  },
  {
   "cell_type": "code",
   "execution_count": 1,
   "id": "aaa19164",
   "metadata": {},
   "outputs": [],
   "source": [
    "class Person2:\n",
    "    def __init__(self, name, age):\n",
    "        self.name = name\n",
    "        self.age = age\n",
    "\n",
    "    def info(self):\n",
    "        return f\"Name: {self.name}, Age: {self.age}\""
   ]
  },
  {
   "cell_type": "code",
   "execution_count": 2,
   "id": "b6bef1ea",
   "metadata": {},
   "outputs": [
    {
     "name": "stdout",
     "output_type": "stream",
     "text": [
      "default represenation without data class <__main__.Person2 object at 0x7f5270ae5e80>\n"
     ]
    }
   ],
   "source": [
    "#p2 is example of Person2 class which is not a dataclass\n",
    "P2 = Person2(\"John\", 36)\n",
    "print(\"default represenation without data class\",P2) "
   ]
  },
  {
   "cell_type": "markdown",
   "id": "b04b115a",
   "metadata": {},
   "source": [
    "## Representation Method"
   ]
  },
  {
   "cell_type": "code",
   "execution_count": 3,
   "id": "f75d70a6",
   "metadata": {},
   "outputs": [],
   "source": [
    "class Person2:\n",
    "    def __init__(self, name, age):\n",
    "        self.name = name\n",
    "        self.age = age\n",
    "\n",
    "    def info(self):\n",
    "        return f\"Name: {self.name}, Age: {self.age}\"\n",
    "    def __repr__(self):\n",
    "        return f\"Person2('{self.name}', {self.age})\""
   ]
  },
  {
   "cell_type": "code",
   "execution_count": 4,
   "id": "e8608309",
   "metadata": {},
   "outputs": [
    {
     "name": "stdout",
     "output_type": "stream",
     "text": [
      "default represenation with __repr__:  Person2('John', 36)\n"
     ]
    }
   ],
   "source": [
    "#p2 is example of Person2 class which is not a dataclass\n",
    "P2 = Person2(\"John\", 36)\n",
    "print(\"default represenation with __repr__: \",P2) "
   ]
  },
  {
   "cell_type": "code",
   "execution_count": 5,
   "id": "de1da4ff",
   "metadata": {},
   "outputs": [],
   "source": [
    "class Person2:\n",
    "    def __init__(self, name, age):\n",
    "        self.name = name\n",
    "        self.age = age\n",
    "\n",
    "    def info(self):\n",
    "        return f\"Name: {self.name}, Age: {self.age}\"\n",
    "    def __repr__(self):\n",
    "        return f\"Person2('{self.name}', {self.age})\""
   ]
  },
  {
   "cell_type": "code",
   "execution_count": 6,
   "id": "7b838af9",
   "metadata": {},
   "outputs": [
    {
     "data": {
      "text/plain": [
       "False"
      ]
     },
     "execution_count": 6,
     "metadata": {},
     "output_type": "execute_result"
    }
   ],
   "source": [
    "P2 = Person2(\"John\", 36)\n",
    "P3 = Person2(\"John\", 36)\n",
    "P2 == P3"
   ]
  },
  {
   "cell_type": "markdown",
   "id": "7a72848c",
   "metadata": {},
   "source": [
    "## Object Equal\n",
    "### Object.__ equal __\n",
    "Its mean they checking memory location not the content of object in = =  let's override the object equal method"
   ]
  },
  {
   "cell_type": "code",
   "execution_count": 7,
   "id": "dd9f1297",
   "metadata": {},
   "outputs": [],
   "source": [
    "class Person2:\n",
    "    def __init__(self, name, age):\n",
    "        self.name = name\n",
    "        self.age = age\n",
    "\n",
    "    def info(self):\n",
    "        return f\"Name: {self.name}, Age: {self.age}\"\n",
    "    def __repr__(self):\n",
    "        return f\"Person2('{self.name}', {self.age})\"\n",
    "    def __eq__(self, other):\n",
    "        # return self.name == other.name and self.age == other.age\n",
    "        # return self.__dict__ == other.__dict__\n",
    "        return (self.name, self.age)==(other.name, other.age)"
   ]
  },
  {
   "cell_type": "code",
   "execution_count": 8,
   "id": "96abb5ee",
   "metadata": {},
   "outputs": [
    {
     "data": {
      "text/plain": [
       "True"
      ]
     },
     "execution_count": 8,
     "metadata": {},
     "output_type": "execute_result"
    }
   ],
   "source": [
    "P2 = Person2(\"John\", 33)\n",
    "P3 = Person2(\"John\", 33)\n",
    "P2 == P3"
   ]
  }
 ],
 "metadata": {
  "kernelspec": {
   "display_name": "Python 3",
   "language": "python",
   "name": "python3"
  },
  "language_info": {
   "codemirror_mode": {
    "name": "ipython",
    "version": 3
   },
   "file_extension": ".py",
   "mimetype": "text/x-python",
   "name": "python",
   "nbconvert_exporter": "python",
   "pygments_lexer": "ipython3",
   "version": "3.12.4"
  }
 },
 "nbformat": 4,
 "nbformat_minor": 5
}
